{
  "cells": [
    {
      "cell_type": "markdown",
      "metadata": {},
      "source": [
        "<h1 style=\"background-color: rgb(236,138,1); height:40px; width: auto; border-radius: 5px; text-align: center\">Introduction</h1>"
      ]
    },
    {
      "cell_type": "markdown",
      "metadata": {},
      "source": [
        "<p style=\"font-family: 'Menlo','Consolas'; font-size: 13px; text-align: center\">\n",
        "This project will focus on historical sales data from 45 Walmart stores located in different regions.<br>\n",
        "Each store is defined by a specific type, size and contains many departments.<br>\n",
        "My goal is to use available data for be able to predict the sales for each department in each store.<br>\n",
        "Special point is the presence of holiday markdown events included in the dataset.<br>\n",
        "These markdowns are known to affect sales, it will make prediction which how departments are affected harder.\n",
        "</p>"
      ]
    },
    {
      "cell_type": "markdown",
      "metadata": {},
      "source": [
        "<h1 style=\"background-color: rgb(236,138,1); height:40px; width: auto; border-radius: 5px; text-align: center\">Libraries and Tools for the project</h1>"
      ]
    },
    {
      "cell_type": "markdown",
      "metadata": {},
      "source": [
        "<h2>Data Handling</h2>\n",
        "<ul>\n",
        "    <li style=\"font-family: 'Monaco'; font-size: 15px; text-align: center; text-decoration: underline; list-style-type: none;\"><b>Pandas</b></li>\n",
        "    <p style=\"font-family: 'Menlo','Consolas'; font-size: 13px; text-align: center\">\n",
        "    Pandas is a powerful data manipulation and analysis library.<br>\n",
        "    It provides two primary data structures:<br>\n",
        "    DataFrame: A 2D labeled data structure with columns of potentially different types.<br>\n",
        "    Series: A 1D array-like object.\n",
        "    </p>\n",
        "    <li style=\"font-family: 'Monaco'; font-size: 15px; text-align: center; text-decoration: underline; list-style-type: none;\"><b>NumPy</b></li>\n",
        "    <p style=\"font-family: 'Menlo','Consolas'; font-size: 13px; text-align: center\">\n",
        "    NumPy is a library used for numerical computing.<br>\n",
        "    It provides support for large, multi-dimensional arrays and matrices, along with a collection of mathematical functions to operate on.<br>\n",
        "    </p>\n",
        "</ul>"
      ]
    },
    {
      "cell_type": "code",
      "execution_count": 1,
      "metadata": {
        "trusted": true
      },
      "outputs": [
        {
          "name": "stderr",
          "output_type": "stream",
          "text": [
            "/workspaces/Waltrends/.conda/lib/python3.8/site-packages/sklearn/experimental/enable_hist_gradient_boosting.py:15: UserWarning: Since version 1.0, it is not needed to import enable_hist_gradient_boosting anymore. HistGradientBoostingClassifier and HistGradientBoostingRegressor are now stable and can be normally imported from sklearn.ensemble.\n",
            "  warnings.warn(\n"
          ]
        }
      ],
      "source": [
        "# Data handling\n",
        "import pandas as pd\n",
        "import numpy as np\n",
        "\n",
        "# Viz\n",
        "import plotly.express as px\n",
        "import plotly.graph_objs as go\n",
        "import plotly.figure_factory as ff\n",
        "\n",
        "# Models\n",
        "import xgboost as xgb\n",
        "import catboost as cb\n",
        "import lightgbm as lgb\n",
        "from sklearn import model_selection, metrics\n",
        "from sklearn import linear_model, ensemble\n",
        "from sklearn.experimental import enable_hist_gradient_boosting\n",
        "from sklearn.ensemble import HistGradientBoostingRegressor\n",
        "\n",
        "# Remove warnings\n",
        "import warnings\n",
        "warnings.filterwarnings('ignore') \n"
      ]
    },
    {
      "cell_type": "markdown",
      "metadata": {
        "editable": true,
        "slideshow": {
          "slide_type": ""
        },
        "tags": [],
        "trusted": true
      },
      "source": [
        "<hr>\n",
        "<h2>Data Visualization</h2>\n",
        "<ul>\n",
        "    <li style=\"font-family: 'Monaco'; font-size: 15px; text-align: center; text-decoration: underline; list-style-type: none;\"><b>Plotly Express</b></li>\n",
        "    <p style=\"font-family: 'Menlo','Consolas'; font-size: 13px; text-align: center\">\n",
        "    Plotly Express is a high-level interface for creating interactive plots easily.<br>\n",
        "    It simplifies the process of creating visualizations like bar charts, scatter plots, line charts... with minimal code.\n",
        "    </p>\n",
        "    <li style=\"font-family: 'Monaco'; font-size: 15px; text-align: center; text-decoration: underline; list-style-type: none;\"><b>Plotly Graph Objects</b></li>\n",
        "    <p style=\"font-family: 'Menlo','Consolas'; font-size: 13px; text-align: center\">\n",
        "    Is a lower-level Plotly API for creating more customized and complex visualizations.<br>\n",
        "    It allows for more detailed control over each component of the graph, such as layout and styling.\n",
        "    </p>\n",
        "    <li style=\"font-family: 'Monaco'; font-size: 15px; text-align: center; text-decoration: underline; list-style-type: none;\"><b>Plotly Figure Factory</b></li>\n",
        "    <p style=\"font-family: 'Menlo','Consolas'; font-size: 13px; text-align: center\">\n",
        "    Figure factory provides helper functions for creating complex plots like heatmaps, dendrograms, and tables that are otherwise more complex to build manually.\n",
        "    </p>\n",
        "</ul>"
      ]
    },
    {
      "cell_type": "markdown",
      "metadata": {},
      "source": [
        "<hr>\n",
        "<p style=\"font-family: 'Menlo','Consolas'; font-size: 13px; text-align: center\">\n",
        "Declaration of several variables with use of pandas for make them dataframe for later use\n",
        "</p>"
      ]
    },
    {
      "cell_type": "code",
      "execution_count": 2,
      "metadata": {},
      "outputs": [],
      "source": [
        "features = pd.read_csv('features.csv')\n",
        "train = pd.read_csv('train.csv')\n",
        "stores = pd.read_csv('stores.csv')\n",
        "test = pd.read_csv('test.csv')\n",
        "sample_submission = pd.read_csv('sampleSubmission.csv')"
      ]
    },
    {
      "cell_type": "markdown",
      "metadata": {},
      "source": [
        "<hr>\n",
        "<p style=\"font-family: 'Menlo','Consolas'; font-size: 13px; text-align: center\">\n",
        "Merge two DataFrames (features and stores) with inner join on the selected field (Store).<br>\n",
        "Only the matched lines in features and stores are include in the result.<br>\n",
        "New DataFrame created (feature_store)<br>\n",
        "</p>"
      ]
    },
    {
      "cell_type": "code",
      "execution_count": 3,
      "metadata": {},
      "outputs": [],
      "source": [
        "feature_store = features.merge(stores, how='inner', on = \"Store\")"
      ]
    },
    {
      "cell_type": "markdown",
      "metadata": {},
      "source": [
        "<p>\n",
        "\n",
        "</p>"
      ]
    },
    {
      "cell_type": "markdown",
      "metadata": {},
      "source": [
        "<hr>\n",
        "<p style=\"font-family: 'Menlo','Consolas'; font-size: 13px; text-align: center\">\n",
        "Create two Dataframes (train_df and test_df) by merging feature_store on 3 fields (Store, Date and IsHoliday)<br>\n",
        "In same time i reset the records index preparing for further analysis\n",
        "</p>"
      ]
    },
    {
      "cell_type": "code",
      "execution_count": 4,
      "metadata": {},
      "outputs": [],
      "source": [
        "train_df = train.merge(feature_store, how='inner', on = ['Store','Date','IsHoliday']).sort_values(by=['Store','Dept','Date']).reset_index(drop=True)\n",
        "\n",
        "test_df = test.merge(feature_store, how='inner', on = ['Store','Date','IsHoliday']).sort_values(by = ['Store','Dept','Date']).reset_index(drop=True)"
      ]
    },
    {
      "cell_type": "code",
      "execution_count": 5,
      "metadata": {},
      "outputs": [],
      "source": [
        "feature_store = features.merge(stores, how='inner', on = \"Store\")\n",
        "\n",
        "# Convert date field to datetime format\n",
        "feature_store['Date'] = pd.to_datetime(feature_store['Date'])\n",
        "train['Date'] = pd.to_datetime(train['Date'])\n",
        "test['Date'] = pd.to_datetime(test['Date'])\n",
        "\n",
        "# Add datetime features\n",
        "feature_store['Day'] = feature_store['Date'].dt.day\n",
        "feature_store['Week'] = feature_store['Date'].dt.isocalendar().week\n",
        "feature_store['Month'] = feature_store['Date'].dt.month\n",
        "feature_store['Year'] = feature_store['Date'].dt.year"
      ]
    },
    {
      "cell_type": "code",
      "execution_count": 6,
      "metadata": {},
      "outputs": [],
      "source": [
        "train_df = train.merge(feature_store, how='inner', on = ['Store','Date','IsHoliday']).sort_values(by=['Store','Dept','Date']).reset_index(drop=True)"
      ]
    },
    {
      "cell_type": "code",
      "execution_count": 7,
      "metadata": {},
      "outputs": [],
      "source": [
        "test_df = test.merge(feature_store, how='inner', on = ['Store','Date','IsHoliday']).sort_values(by = ['Store','Dept','Date']).reset_index(drop=True)"
      ]
    },
    {
      "cell_type": "code",
      "execution_count": 8,
      "metadata": {},
      "outputs": [
        {
          "data": {
            "text/html": [
              "<style  type=\"text/css\" >\n",
              "#T_3005e_row0_col1,#T_3005e_row1_col1,#T_3005e_row3_col1,#T_3005e_row11_col1,#T_3005e_row13_col1,#T_3005e_row14_col1,#T_3005e_row15_col1{\n",
              "            width:  10em;\n",
              "             height:  80%;\n",
              "            background:  linear-gradient(90deg,#205ff2 0.0%, transparent 0.0%);\n",
              "        }#T_3005e_row0_col2,#T_3005e_row0_col5,#T_3005e_row1_col2,#T_3005e_row1_col5,#T_3005e_row3_col2,#T_3005e_row3_col5,#T_3005e_row4_col2,#T_3005e_row4_col5,#T_3005e_row6_col5,#T_3005e_row7_col5,#T_3005e_row10_col2,#T_3005e_row10_col5,#T_3005e_row11_col2,#T_3005e_row11_col5,#T_3005e_row13_col2,#T_3005e_row13_col5,#T_3005e_row14_col2,#T_3005e_row14_col5,#T_3005e_row15_col2,#T_3005e_row15_col5,#T_3005e_row16_col2{\n",
              "            background-color:  #f7fcf0;\n",
              "            color:  #000000;\n",
              "        }#T_3005e_row0_col3,#T_3005e_row1_col3,#T_3005e_row3_col3,#T_3005e_row4_col3,#T_3005e_row5_col3,#T_3005e_row8_col3,#T_3005e_row9_col3,#T_3005e_row10_col3,#T_3005e_row11_col3,#T_3005e_row13_col3,#T_3005e_row14_col3,#T_3005e_row15_col3{\n",
              "            background-color:  #fee0d2;\n",
              "            color:  #000000;\n",
              "        }#T_3005e_row0_col7,#T_3005e_row1_col7,#T_3005e_row3_col7,#T_3005e_row4_col7,#T_3005e_row10_col7,#T_3005e_row11_col7,#T_3005e_row13_col7,#T_3005e_row14_col7,#T_3005e_row15_col7,#T_3005e_row16_col7{\n",
              "            background-color:  #f7fcf5;\n",
              "            color:  #000000;\n",
              "        }#T_3005e_row2_col1{\n",
              "            width:  10em;\n",
              "             height:  80%;\n",
              "            background:  linear-gradient(90deg,#205ff2 11.7%, transparent 11.7%);\n",
              "        }#T_3005e_row2_col2{\n",
              "            background-color:  #a9ddb5;\n",
              "            color:  #000000;\n",
              "        }#T_3005e_row2_col3{\n",
              "            background-color:  #fff5f0;\n",
              "            color:  #000000;\n",
              "        }#T_3005e_row2_col5{\n",
              "            background-color:  #eef8e7;\n",
              "            color:  #000000;\n",
              "        }#T_3005e_row2_col7{\n",
              "            background-color:  #00441b;\n",
              "            color:  #f1f1f1;\n",
              "        }#T_3005e_row4_col1{\n",
              "            width:  10em;\n",
              "             height:  80%;\n",
              "        }#T_3005e_row5_col1{\n",
              "            width:  10em;\n",
              "             height:  80%;\n",
              "            background:  linear-gradient(90deg,#205ff2 5.3%, transparent 5.3%);\n",
              "        }#T_3005e_row5_col2{\n",
              "            background-color:  #dff2da;\n",
              "            color:  #000000;\n",
              "        }#T_3005e_row5_col5{\n",
              "            background-color:  #f1f9ea;\n",
              "            color:  #000000;\n",
              "        }#T_3005e_row5_col7,#T_3005e_row9_col2{\n",
              "            background-color:  #e5f5e0;\n",
              "            color:  #000000;\n",
              "        }#T_3005e_row6_col1{\n",
              "            width:  10em;\n",
              "             height:  80%;\n",
              "            background:  linear-gradient(90deg,#205ff2 2.4%, transparent 2.4%);\n",
              "        }#T_3005e_row6_col2{\n",
              "            background-color:  #dcf1d6;\n",
              "            color:  #000000;\n",
              "        }#T_3005e_row6_col3{\n",
              "            background-color:  #fee1d4;\n",
              "            color:  #000000;\n",
              "        }#T_3005e_row6_col7{\n",
              "            background-color:  #dff3da;\n",
              "            color:  #000000;\n",
              "        }#T_3005e_row7_col1{\n",
              "            width:  10em;\n",
              "             height:  80%;\n",
              "            background:  linear-gradient(90deg,#205ff2 1.1%, transparent 1.1%);\n",
              "        }#T_3005e_row7_col2{\n",
              "            background-color:  #dbf1d5;\n",
              "            color:  #000000;\n",
              "        }#T_3005e_row7_col3{\n",
              "            background-color:  #fee1d3;\n",
              "            color:  #000000;\n",
              "        }#T_3005e_row7_col7{\n",
              "            background-color:  #d2edcc;\n",
              "            color:  #000000;\n",
              "        }#T_3005e_row8_col1{\n",
              "            width:  10em;\n",
              "             height:  80%;\n",
              "            background:  linear-gradient(90deg,#205ff2 2.5%, transparent 2.5%);\n",
              "        }#T_3005e_row8_col2{\n",
              "            background-color:  #e4f5df;\n",
              "            color:  #000000;\n",
              "        }#T_3005e_row8_col5{\n",
              "            background-color:  #f6fbef;\n",
              "            color:  #000000;\n",
              "        }#T_3005e_row8_col7{\n",
              "            background-color:  #e9f7e5;\n",
              "            color:  #000000;\n",
              "        }#T_3005e_row9_col1{\n",
              "            width:  10em;\n",
              "             height:  80%;\n",
              "            background:  linear-gradient(90deg,#205ff2 3.4%, transparent 3.4%);\n",
              "        }#T_3005e_row9_col5{\n",
              "            background-color:  #f3faec;\n",
              "            color:  #000000;\n",
              "        }#T_3005e_row9_col7{\n",
              "            background-color:  #ddf2d8;\n",
              "            color:  #000000;\n",
              "        }#T_3005e_row10_col1{\n",
              "            width:  10em;\n",
              "             height:  80%;\n",
              "            background:  linear-gradient(90deg,#205ff2 0.1%, transparent 0.1%);\n",
              "        }#T_3005e_row12_col1{\n",
              "            width:  10em;\n",
              "             height:  80%;\n",
              "            background:  linear-gradient(90deg,#205ff2 100.0%, transparent 100.0%);\n",
              "        }#T_3005e_row12_col2,#T_3005e_row12_col5{\n",
              "            background-color:  #084081;\n",
              "            color:  #f1f1f1;\n",
              "        }#T_3005e_row12_col3{\n",
              "            background-color:  #67000d;\n",
              "            color:  #f1f1f1;\n",
              "        }#T_3005e_row12_col7{\n",
              "            background-color:  #b2e0ac;\n",
              "            color:  #000000;\n",
              "        }#T_3005e_row16_col1{\n",
              "            width:  10em;\n",
              "             height:  80%;\n",
              "            background:  linear-gradient(90deg,#205ff2 1.5%, transparent 1.5%);\n",
              "        }#T_3005e_row16_col3{\n",
              "            background-color:  #fdd2bf;\n",
              "            color:  #000000;\n",
              "        }#T_3005e_row16_col5{\n",
              "            background-color:  #f5fbee;\n",
              "            color:  #000000;\n",
              "        }</style><table id=\"T_3005e_\" ><caption>Stats Summary of Numeric Variables</caption><thead>    <tr>        <th class=\"blank level0\" ></th>        <th class=\"col_heading level0 col0\" >count</th>        <th class=\"col_heading level0 col1\" >mean</th>        <th class=\"col_heading level0 col2\" >std</th>        <th class=\"col_heading level0 col3\" >min</th>        <th class=\"col_heading level0 col4\" >25%</th>        <th class=\"col_heading level0 col5\" >50%</th>        <th class=\"col_heading level0 col6\" >75%</th>        <th class=\"col_heading level0 col7\" >max</th>    </tr></thead><tbody>\n",
              "                <tr>\n",
              "                        <th id=\"T_3005e_level0_row0\" class=\"row_heading level0 row0\" >Store</th>\n",
              "                        <td id=\"T_3005e_row0_col0\" class=\"data row0 col0\" >421570.000000</td>\n",
              "                        <td id=\"T_3005e_row0_col1\" class=\"data row0 col1\" >22.200546</td>\n",
              "                        <td id=\"T_3005e_row0_col2\" class=\"data row0 col2\" >12.785297</td>\n",
              "                        <td id=\"T_3005e_row0_col3\" class=\"data row0 col3\" >1.000000</td>\n",
              "                        <td id=\"T_3005e_row0_col4\" class=\"data row0 col4\" >11.000000</td>\n",
              "                        <td id=\"T_3005e_row0_col5\" class=\"data row0 col5\" >22.000000</td>\n",
              "                        <td id=\"T_3005e_row0_col6\" class=\"data row0 col6\" >33.000000</td>\n",
              "                        <td id=\"T_3005e_row0_col7\" class=\"data row0 col7\" >45.000000</td>\n",
              "            </tr>\n",
              "            <tr>\n",
              "                        <th id=\"T_3005e_level0_row1\" class=\"row_heading level0 row1\" >Dept</th>\n",
              "                        <td id=\"T_3005e_row1_col0\" class=\"data row1 col0\" >421570.000000</td>\n",
              "                        <td id=\"T_3005e_row1_col1\" class=\"data row1 col1\" >44.260317</td>\n",
              "                        <td id=\"T_3005e_row1_col2\" class=\"data row1 col2\" >30.492054</td>\n",
              "                        <td id=\"T_3005e_row1_col3\" class=\"data row1 col3\" >1.000000</td>\n",
              "                        <td id=\"T_3005e_row1_col4\" class=\"data row1 col4\" >18.000000</td>\n",
              "                        <td id=\"T_3005e_row1_col5\" class=\"data row1 col5\" >37.000000</td>\n",
              "                        <td id=\"T_3005e_row1_col6\" class=\"data row1 col6\" >74.000000</td>\n",
              "                        <td id=\"T_3005e_row1_col7\" class=\"data row1 col7\" >99.000000</td>\n",
              "            </tr>\n",
              "            <tr>\n",
              "                        <th id=\"T_3005e_level0_row2\" class=\"row_heading level0 row2\" >Weekly_Sales</th>\n",
              "                        <td id=\"T_3005e_row2_col0\" class=\"data row2 col0\" >421570.000000</td>\n",
              "                        <td id=\"T_3005e_row2_col1\" class=\"data row2 col1\" >15981.258123</td>\n",
              "                        <td id=\"T_3005e_row2_col2\" class=\"data row2 col2\" >22711.183519</td>\n",
              "                        <td id=\"T_3005e_row2_col3\" class=\"data row2 col3\" >-4988.940000</td>\n",
              "                        <td id=\"T_3005e_row2_col4\" class=\"data row2 col4\" >2079.650000</td>\n",
              "                        <td id=\"T_3005e_row2_col5\" class=\"data row2 col5\" >7612.030000</td>\n",
              "                        <td id=\"T_3005e_row2_col6\" class=\"data row2 col6\" >20205.852500</td>\n",
              "                        <td id=\"T_3005e_row2_col7\" class=\"data row2 col7\" >693099.360000</td>\n",
              "            </tr>\n",
              "            <tr>\n",
              "                        <th id=\"T_3005e_level0_row3\" class=\"row_heading level0 row3\" >Temperature</th>\n",
              "                        <td id=\"T_3005e_row3_col0\" class=\"data row3 col0\" >421570.000000</td>\n",
              "                        <td id=\"T_3005e_row3_col1\" class=\"data row3 col1\" >60.090059</td>\n",
              "                        <td id=\"T_3005e_row3_col2\" class=\"data row3 col2\" >18.447931</td>\n",
              "                        <td id=\"T_3005e_row3_col3\" class=\"data row3 col3\" >-2.060000</td>\n",
              "                        <td id=\"T_3005e_row3_col4\" class=\"data row3 col4\" >46.680000</td>\n",
              "                        <td id=\"T_3005e_row3_col5\" class=\"data row3 col5\" >62.090000</td>\n",
              "                        <td id=\"T_3005e_row3_col6\" class=\"data row3 col6\" >74.280000</td>\n",
              "                        <td id=\"T_3005e_row3_col7\" class=\"data row3 col7\" >100.140000</td>\n",
              "            </tr>\n",
              "            <tr>\n",
              "                        <th id=\"T_3005e_level0_row4\" class=\"row_heading level0 row4\" >Fuel_Price</th>\n",
              "                        <td id=\"T_3005e_row4_col0\" class=\"data row4 col0\" >421570.000000</td>\n",
              "                        <td id=\"T_3005e_row4_col1\" class=\"data row4 col1\" >3.361027</td>\n",
              "                        <td id=\"T_3005e_row4_col2\" class=\"data row4 col2\" >0.458515</td>\n",
              "                        <td id=\"T_3005e_row4_col3\" class=\"data row4 col3\" >2.472000</td>\n",
              "                        <td id=\"T_3005e_row4_col4\" class=\"data row4 col4\" >2.933000</td>\n",
              "                        <td id=\"T_3005e_row4_col5\" class=\"data row4 col5\" >3.452000</td>\n",
              "                        <td id=\"T_3005e_row4_col6\" class=\"data row4 col6\" >3.738000</td>\n",
              "                        <td id=\"T_3005e_row4_col7\" class=\"data row4 col7\" >4.468000</td>\n",
              "            </tr>\n",
              "            <tr>\n",
              "                        <th id=\"T_3005e_level0_row5\" class=\"row_heading level0 row5\" >MarkDown1</th>\n",
              "                        <td id=\"T_3005e_row5_col0\" class=\"data row5 col0\" >150681.000000</td>\n",
              "                        <td id=\"T_3005e_row5_col1\" class=\"data row5 col1\" >7246.420196</td>\n",
              "                        <td id=\"T_3005e_row5_col2\" class=\"data row5 col2\" >8291.221345</td>\n",
              "                        <td id=\"T_3005e_row5_col3\" class=\"data row5 col3\" >0.270000</td>\n",
              "                        <td id=\"T_3005e_row5_col4\" class=\"data row5 col4\" >2240.270000</td>\n",
              "                        <td id=\"T_3005e_row5_col5\" class=\"data row5 col5\" >5347.450000</td>\n",
              "                        <td id=\"T_3005e_row5_col6\" class=\"data row5 col6\" >9210.900000</td>\n",
              "                        <td id=\"T_3005e_row5_col7\" class=\"data row5 col7\" >88646.760000</td>\n",
              "            </tr>\n",
              "            <tr>\n",
              "                        <th id=\"T_3005e_level0_row6\" class=\"row_heading level0 row6\" >MarkDown2</th>\n",
              "                        <td id=\"T_3005e_row6_col0\" class=\"data row6 col0\" >111248.000000</td>\n",
              "                        <td id=\"T_3005e_row6_col1\" class=\"data row6 col1\" >3334.628621</td>\n",
              "                        <td id=\"T_3005e_row6_col2\" class=\"data row6 col2\" >9475.357325</td>\n",
              "                        <td id=\"T_3005e_row6_col3\" class=\"data row6 col3\" >-265.760000</td>\n",
              "                        <td id=\"T_3005e_row6_col4\" class=\"data row6 col4\" >41.600000</td>\n",
              "                        <td id=\"T_3005e_row6_col5\" class=\"data row6 col5\" >192.000000</td>\n",
              "                        <td id=\"T_3005e_row6_col6\" class=\"data row6 col6\" >1926.940000</td>\n",
              "                        <td id=\"T_3005e_row6_col7\" class=\"data row6 col7\" >104519.540000</td>\n",
              "            </tr>\n",
              "            <tr>\n",
              "                        <th id=\"T_3005e_level0_row7\" class=\"row_heading level0 row7\" >MarkDown3</th>\n",
              "                        <td id=\"T_3005e_row7_col0\" class=\"data row7 col0\" >137091.000000</td>\n",
              "                        <td id=\"T_3005e_row7_col1\" class=\"data row7 col1\" >1439.421384</td>\n",
              "                        <td id=\"T_3005e_row7_col2\" class=\"data row7 col2\" >9623.078290</td>\n",
              "                        <td id=\"T_3005e_row7_col3\" class=\"data row7 col3\" >-29.100000</td>\n",
              "                        <td id=\"T_3005e_row7_col4\" class=\"data row7 col4\" >5.080000</td>\n",
              "                        <td id=\"T_3005e_row7_col5\" class=\"data row7 col5\" >24.600000</td>\n",
              "                        <td id=\"T_3005e_row7_col6\" class=\"data row7 col6\" >103.990000</td>\n",
              "                        <td id=\"T_3005e_row7_col7\" class=\"data row7 col7\" >141630.610000</td>\n",
              "            </tr>\n",
              "            <tr>\n",
              "                        <th id=\"T_3005e_level0_row8\" class=\"row_heading level0 row8\" >MarkDown4</th>\n",
              "                        <td id=\"T_3005e_row8_col0\" class=\"data row8 col0\" >134967.000000</td>\n",
              "                        <td id=\"T_3005e_row8_col1\" class=\"data row8 col1\" >3383.168256</td>\n",
              "                        <td id=\"T_3005e_row8_col2\" class=\"data row8 col2\" >6292.384031</td>\n",
              "                        <td id=\"T_3005e_row8_col3\" class=\"data row8 col3\" >0.220000</td>\n",
              "                        <td id=\"T_3005e_row8_col4\" class=\"data row8 col4\" >504.220000</td>\n",
              "                        <td id=\"T_3005e_row8_col5\" class=\"data row8 col5\" >1481.310000</td>\n",
              "                        <td id=\"T_3005e_row8_col6\" class=\"data row8 col6\" >3595.040000</td>\n",
              "                        <td id=\"T_3005e_row8_col7\" class=\"data row8 col7\" >67474.850000</td>\n",
              "            </tr>\n",
              "            <tr>\n",
              "                        <th id=\"T_3005e_level0_row9\" class=\"row_heading level0 row9\" >MarkDown5</th>\n",
              "                        <td id=\"T_3005e_row9_col0\" class=\"data row9 col0\" >151432.000000</td>\n",
              "                        <td id=\"T_3005e_row9_col1\" class=\"data row9 col1\" >4628.975079</td>\n",
              "                        <td id=\"T_3005e_row9_col2\" class=\"data row9 col2\" >5962.887455</td>\n",
              "                        <td id=\"T_3005e_row9_col3\" class=\"data row9 col3\" >135.160000</td>\n",
              "                        <td id=\"T_3005e_row9_col4\" class=\"data row9 col4\" >1878.440000</td>\n",
              "                        <td id=\"T_3005e_row9_col5\" class=\"data row9 col5\" >3359.450000</td>\n",
              "                        <td id=\"T_3005e_row9_col6\" class=\"data row9 col6\" >5563.800000</td>\n",
              "                        <td id=\"T_3005e_row9_col7\" class=\"data row9 col7\" >108519.280000</td>\n",
              "            </tr>\n",
              "            <tr>\n",
              "                        <th id=\"T_3005e_level0_row10\" class=\"row_heading level0 row10\" >CPI</th>\n",
              "                        <td id=\"T_3005e_row10_col0\" class=\"data row10 col0\" >421570.000000</td>\n",
              "                        <td id=\"T_3005e_row10_col1\" class=\"data row10 col1\" >171.201947</td>\n",
              "                        <td id=\"T_3005e_row10_col2\" class=\"data row10 col2\" >39.159276</td>\n",
              "                        <td id=\"T_3005e_row10_col3\" class=\"data row10 col3\" >126.064000</td>\n",
              "                        <td id=\"T_3005e_row10_col4\" class=\"data row10 col4\" >132.022667</td>\n",
              "                        <td id=\"T_3005e_row10_col5\" class=\"data row10 col5\" >182.318780</td>\n",
              "                        <td id=\"T_3005e_row10_col6\" class=\"data row10 col6\" >212.416993</td>\n",
              "                        <td id=\"T_3005e_row10_col7\" class=\"data row10 col7\" >227.232807</td>\n",
              "            </tr>\n",
              "            <tr>\n",
              "                        <th id=\"T_3005e_level0_row11\" class=\"row_heading level0 row11\" >Unemployment</th>\n",
              "                        <td id=\"T_3005e_row11_col0\" class=\"data row11 col0\" >421570.000000</td>\n",
              "                        <td id=\"T_3005e_row11_col1\" class=\"data row11 col1\" >7.960289</td>\n",
              "                        <td id=\"T_3005e_row11_col2\" class=\"data row11 col2\" >1.863296</td>\n",
              "                        <td id=\"T_3005e_row11_col3\" class=\"data row11 col3\" >3.879000</td>\n",
              "                        <td id=\"T_3005e_row11_col4\" class=\"data row11 col4\" >6.891000</td>\n",
              "                        <td id=\"T_3005e_row11_col5\" class=\"data row11 col5\" >7.866000</td>\n",
              "                        <td id=\"T_3005e_row11_col6\" class=\"data row11 col6\" >8.572000</td>\n",
              "                        <td id=\"T_3005e_row11_col7\" class=\"data row11 col7\" >14.313000</td>\n",
              "            </tr>\n",
              "            <tr>\n",
              "                        <th id=\"T_3005e_level0_row12\" class=\"row_heading level0 row12\" >Size</th>\n",
              "                        <td id=\"T_3005e_row12_col0\" class=\"data row12 col0\" >421570.000000</td>\n",
              "                        <td id=\"T_3005e_row12_col1\" class=\"data row12 col1\" >136727.915739</td>\n",
              "                        <td id=\"T_3005e_row12_col2\" class=\"data row12 col2\" >60980.583328</td>\n",
              "                        <td id=\"T_3005e_row12_col3\" class=\"data row12 col3\" >34875.000000</td>\n",
              "                        <td id=\"T_3005e_row12_col4\" class=\"data row12 col4\" >93638.000000</td>\n",
              "                        <td id=\"T_3005e_row12_col5\" class=\"data row12 col5\" >140167.000000</td>\n",
              "                        <td id=\"T_3005e_row12_col6\" class=\"data row12 col6\" >202505.000000</td>\n",
              "                        <td id=\"T_3005e_row12_col7\" class=\"data row12 col7\" >219622.000000</td>\n",
              "            </tr>\n",
              "            <tr>\n",
              "                        <th id=\"T_3005e_level0_row13\" class=\"row_heading level0 row13\" >Day</th>\n",
              "                        <td id=\"T_3005e_row13_col0\" class=\"data row13 col0\" >421570.000000</td>\n",
              "                        <td id=\"T_3005e_row13_col1\" class=\"data row13 col1\" >15.673131</td>\n",
              "                        <td id=\"T_3005e_row13_col2\" class=\"data row13 col2\" >8.753549</td>\n",
              "                        <td id=\"T_3005e_row13_col3\" class=\"data row13 col3\" >1.000000</td>\n",
              "                        <td id=\"T_3005e_row13_col4\" class=\"data row13 col4\" >8.000000</td>\n",
              "                        <td id=\"T_3005e_row13_col5\" class=\"data row13 col5\" >16.000000</td>\n",
              "                        <td id=\"T_3005e_row13_col6\" class=\"data row13 col6\" >23.000000</td>\n",
              "                        <td id=\"T_3005e_row13_col7\" class=\"data row13 col7\" >31.000000</td>\n",
              "            </tr>\n",
              "            <tr>\n",
              "                        <th id=\"T_3005e_level0_row14\" class=\"row_heading level0 row14\" >Week</th>\n",
              "                        <td id=\"T_3005e_row14_col0\" class=\"data row14 col0\" >421570.000000</td>\n",
              "                        <td id=\"T_3005e_row14_col1\" class=\"data row14 col1\" >25.826762</td>\n",
              "                        <td id=\"T_3005e_row14_col2\" class=\"data row14 col2\" >14.151887</td>\n",
              "                        <td id=\"T_3005e_row14_col3\" class=\"data row14 col3\" >1.000000</td>\n",
              "                        <td id=\"T_3005e_row14_col4\" class=\"data row14 col4\" >14.000000</td>\n",
              "                        <td id=\"T_3005e_row14_col5\" class=\"data row14 col5\" >26.000000</td>\n",
              "                        <td id=\"T_3005e_row14_col6\" class=\"data row14 col6\" >38.000000</td>\n",
              "                        <td id=\"T_3005e_row14_col7\" class=\"data row14 col7\" >52.000000</td>\n",
              "            </tr>\n",
              "            <tr>\n",
              "                        <th id=\"T_3005e_level0_row15\" class=\"row_heading level0 row15\" >Month</th>\n",
              "                        <td id=\"T_3005e_row15_col0\" class=\"data row15 col0\" >421570.000000</td>\n",
              "                        <td id=\"T_3005e_row15_col1\" class=\"data row15 col1\" >6.449510</td>\n",
              "                        <td id=\"T_3005e_row15_col2\" class=\"data row15 col2\" >3.243217</td>\n",
              "                        <td id=\"T_3005e_row15_col3\" class=\"data row15 col3\" >1.000000</td>\n",
              "                        <td id=\"T_3005e_row15_col4\" class=\"data row15 col4\" >4.000000</td>\n",
              "                        <td id=\"T_3005e_row15_col5\" class=\"data row15 col5\" >6.000000</td>\n",
              "                        <td id=\"T_3005e_row15_col6\" class=\"data row15 col6\" >9.000000</td>\n",
              "                        <td id=\"T_3005e_row15_col7\" class=\"data row15 col7\" >12.000000</td>\n",
              "            </tr>\n",
              "            <tr>\n",
              "                        <th id=\"T_3005e_level0_row16\" class=\"row_heading level0 row16\" >Year</th>\n",
              "                        <td id=\"T_3005e_row16_col0\" class=\"data row16 col0\" >421570.000000</td>\n",
              "                        <td id=\"T_3005e_row16_col1\" class=\"data row16 col1\" >2010.968591</td>\n",
              "                        <td id=\"T_3005e_row16_col2\" class=\"data row16 col2\" >0.796876</td>\n",
              "                        <td id=\"T_3005e_row16_col3\" class=\"data row16 col3\" >2010.000000</td>\n",
              "                        <td id=\"T_3005e_row16_col4\" class=\"data row16 col4\" >2010.000000</td>\n",
              "                        <td id=\"T_3005e_row16_col5\" class=\"data row16 col5\" >2011.000000</td>\n",
              "                        <td id=\"T_3005e_row16_col6\" class=\"data row16 col6\" >2012.000000</td>\n",
              "                        <td id=\"T_3005e_row16_col7\" class=\"data row16 col7\" >2012.000000</td>\n",
              "            </tr>\n",
              "    </tbody></table>"
            ],
            "text/plain": [
              "<pandas.io.formats.style.Styler at 0x7c31c9f45310>"
            ]
          },
          "execution_count": 8,
          "metadata": {},
          "output_type": "execute_result"
        }
      ],
      "source": [
        "train_df.describe().T.style.bar(subset=['mean'], color='#205ff2')\\\n",
        "                            .set_caption(\"Stats Summary of Numeric Variables\")\\\n",
        "                            .background_gradient(subset=['min'], cmap='Reds')\\\n",
        "                            .background_gradient(subset=['max'], cmap='Greens')\\\n",
        "                            .background_gradient(subset=['std'], cmap='GnBu')\\\n",
        "                            .background_gradient(subset=['50%'], cmap='GnBu')"
      ]
    },
    {
      "cell_type": "markdown",
      "metadata": {},
      "source": [
        "<hr>"
      ]
    },
    {
      "cell_type": "code",
      "execution_count": 9,
      "metadata": {},
      "outputs": [],
      "source": [
        "palletes = {\n",
        "   'continuos':{'blues': ['#03045E', '#023E8A', '#0077B6', '#0077B6', '#0096C7', '#00B4D8', '#48CAE4', '#90E0EF', '#ADE8F4', '#CAF0F8'],\n",
        "                'green_n_blues': ['#D9ED92', '#B5E48C', '#99D98C', '#76C893', '#52B69A', '#34A0A4', '#168AAD', '#1A759F', '#1E6091', '#184E77']\n",
        "               }\n",
        "            }"
      ]
    },
    {
      "cell_type": "code",
      "execution_count": 10,
      "metadata": {},
      "outputs": [],
      "source": [
        "template = dict(layout=go.Layout(font=dict(family=\"Enriqueta\", size=12))) # Cabin | Franklin Bold"
      ]
    },
    {
      "cell_type": "code",
      "execution_count": 15,
      "metadata": {},
      "outputs": [
        {
          "data": {
            "application/vnd.plotly.v1+json": {
              "config": {
                "plotlyServerURL": "https://plot.ly"
              },
              "data": [
                {
                  "hovertemplate": "Week=%{x}<br>Total Sales=%{y}<extra></extra>",
                  "legendgroup": "",
                  "line": {
                    "color": "#1F77B4",
                    "dash": "solid"
                  },
                  "mode": "lines",
                  "name": "",
                  "orientation": "v",
                  "showlegend": false,
                  "type": "scatter",
                  "x": [
                    1,
                    2,
                    3,
                    4,
                    5,
                    6,
                    7,
                    8,
                    9,
                    10,
                    11,
                    12,
                    13,
                    14,
                    15,
                    16,
                    17,
                    18,
                    19,
                    20,
                    21,
                    22,
                    23,
                    24,
                    25,
                    26,
                    27,
                    28,
                    29,
                    30,
                    31,
                    32,
                    33,
                    34,
                    35,
                    36,
                    37,
                    38,
                    39,
                    40,
                    41,
                    42,
                    43,
                    44,
                    45,
                    46,
                    47,
                    48,
                    49,
                    50,
                    51,
                    52
                  ],
                  "xaxis": "x",
                  "y": [
                    87731209.72000007,
                    82696756.51999962,
                    82735644.58999956,
                    79434827.66000026,
                    141989459.70999995,
                    145682278.34000015,
                    147190214.8600003,
                    133865937.53999993,
                    140713109.01000005,
                    138033170.0199998,
                    136762805.5500003,
                    132003954.67999998,
                    139155684.46999973,
                    146755073.1099998,
                    136786256.6299997,
                    138483674.39999974,
                    130951958.37999958,
                    142489399.73999953,
                    137702104.01000014,
                    135990645.2899998,
                    140943422.91000012,
                    147242187.0199995,
                    145147453.1600001,
                    143481718.69999948,
                    140161415.8400002,
                    143093116.11999908,
                    147011815.0300001,
                    137859561.60000035,
                    136222803.9499998,
                    132410792.67000027,
                    143706365.65,
                    140117438.65999958,
                    141332752.5900004,
                    140774012.48999986,
                    139730520.30999914,
                    140727684.6800001,
                    131100725.23999973,
                    128431158.24999996,
                    128170606.07999898,
                    139881301.8999995,
                    133652807.99999954,
                    134008033.52999976,
                    135002768.2899998,
                    94437526.18999968,
                    94599025.57999998,
                    91564564.73999977,
                    132414608.49999988,
                    99299584.36999993,
                    111227918.0900003,
                    121906495.7899998,
                    157929656.9099998,
                    86474980.03999983
                  ],
                  "yaxis": "y"
                }
              ],
              "layout": {
                "annotations": [
                  {
                    "align": "left",
                    "font": {
                      "size": 12
                    },
                    "showarrow": false,
                    "text": "<span style='font-size:16px;'><b><i>Result</b></i>: <i>Sales seems to be stable throughout the year, fall from week 42 followed by resurgence at end.</i>",
                    "textangle": 0,
                    "x": 0,
                    "xref": "paper",
                    "y": -0.2,
                    "yref": "paper"
                  }
                ],
                "legend": {
                  "tracegroupgap": 0
                },
                "margin": {
                  "t": 60
                },
                "template": {
                  "data": {
                    "bar": [
                      {
                        "error_x": {
                          "color": "rgb(36,36,36)"
                        },
                        "error_y": {
                          "color": "rgb(36,36,36)"
                        },
                        "marker": {
                          "line": {
                            "color": "white",
                            "width": 0.5
                          },
                          "pattern": {
                            "fillmode": "overlay",
                            "size": 10,
                            "solidity": 0.2
                          }
                        },
                        "type": "bar"
                      }
                    ],
                    "barpolar": [
                      {
                        "marker": {
                          "line": {
                            "color": "white",
                            "width": 0.5
                          },
                          "pattern": {
                            "fillmode": "overlay",
                            "size": 10,
                            "solidity": 0.2
                          }
                        },
                        "type": "barpolar"
                      }
                    ],
                    "carpet": [
                      {
                        "aaxis": {
                          "endlinecolor": "rgb(36,36,36)",
                          "gridcolor": "white",
                          "linecolor": "white",
                          "minorgridcolor": "white",
                          "startlinecolor": "rgb(36,36,36)"
                        },
                        "baxis": {
                          "endlinecolor": "rgb(36,36,36)",
                          "gridcolor": "white",
                          "linecolor": "white",
                          "minorgridcolor": "white",
                          "startlinecolor": "rgb(36,36,36)"
                        },
                        "type": "carpet"
                      }
                    ],
                    "choropleth": [
                      {
                        "colorbar": {
                          "outlinewidth": 1,
                          "tickcolor": "rgb(36,36,36)",
                          "ticks": "outside"
                        },
                        "type": "choropleth"
                      }
                    ],
                    "contour": [
                      {
                        "colorbar": {
                          "outlinewidth": 1,
                          "tickcolor": "rgb(36,36,36)",
                          "ticks": "outside"
                        },
                        "colorscale": [
                          [
                            0,
                            "#440154"
                          ],
                          [
                            0.1111111111111111,
                            "#482878"
                          ],
                          [
                            0.2222222222222222,
                            "#3e4989"
                          ],
                          [
                            0.3333333333333333,
                            "#31688e"
                          ],
                          [
                            0.4444444444444444,
                            "#26828e"
                          ],
                          [
                            0.5555555555555556,
                            "#1f9e89"
                          ],
                          [
                            0.6666666666666666,
                            "#35b779"
                          ],
                          [
                            0.7777777777777778,
                            "#6ece58"
                          ],
                          [
                            0.8888888888888888,
                            "#b5de2b"
                          ],
                          [
                            1,
                            "#fde725"
                          ]
                        ],
                        "type": "contour"
                      }
                    ],
                    "contourcarpet": [
                      {
                        "colorbar": {
                          "outlinewidth": 1,
                          "tickcolor": "rgb(36,36,36)",
                          "ticks": "outside"
                        },
                        "type": "contourcarpet"
                      }
                    ],
                    "heatmap": [
                      {
                        "colorbar": {
                          "outlinewidth": 1,
                          "tickcolor": "rgb(36,36,36)",
                          "ticks": "outside"
                        },
                        "colorscale": [
                          [
                            0,
                            "#440154"
                          ],
                          [
                            0.1111111111111111,
                            "#482878"
                          ],
                          [
                            0.2222222222222222,
                            "#3e4989"
                          ],
                          [
                            0.3333333333333333,
                            "#31688e"
                          ],
                          [
                            0.4444444444444444,
                            "#26828e"
                          ],
                          [
                            0.5555555555555556,
                            "#1f9e89"
                          ],
                          [
                            0.6666666666666666,
                            "#35b779"
                          ],
                          [
                            0.7777777777777778,
                            "#6ece58"
                          ],
                          [
                            0.8888888888888888,
                            "#b5de2b"
                          ],
                          [
                            1,
                            "#fde725"
                          ]
                        ],
                        "type": "heatmap"
                      }
                    ],
                    "heatmapgl": [
                      {
                        "colorbar": {
                          "outlinewidth": 1,
                          "tickcolor": "rgb(36,36,36)",
                          "ticks": "outside"
                        },
                        "colorscale": [
                          [
                            0,
                            "#440154"
                          ],
                          [
                            0.1111111111111111,
                            "#482878"
                          ],
                          [
                            0.2222222222222222,
                            "#3e4989"
                          ],
                          [
                            0.3333333333333333,
                            "#31688e"
                          ],
                          [
                            0.4444444444444444,
                            "#26828e"
                          ],
                          [
                            0.5555555555555556,
                            "#1f9e89"
                          ],
                          [
                            0.6666666666666666,
                            "#35b779"
                          ],
                          [
                            0.7777777777777778,
                            "#6ece58"
                          ],
                          [
                            0.8888888888888888,
                            "#b5de2b"
                          ],
                          [
                            1,
                            "#fde725"
                          ]
                        ],
                        "type": "heatmapgl"
                      }
                    ],
                    "histogram": [
                      {
                        "marker": {
                          "line": {
                            "color": "white",
                            "width": 0.6
                          }
                        },
                        "type": "histogram"
                      }
                    ],
                    "histogram2d": [
                      {
                        "colorbar": {
                          "outlinewidth": 1,
                          "tickcolor": "rgb(36,36,36)",
                          "ticks": "outside"
                        },
                        "colorscale": [
                          [
                            0,
                            "#440154"
                          ],
                          [
                            0.1111111111111111,
                            "#482878"
                          ],
                          [
                            0.2222222222222222,
                            "#3e4989"
                          ],
                          [
                            0.3333333333333333,
                            "#31688e"
                          ],
                          [
                            0.4444444444444444,
                            "#26828e"
                          ],
                          [
                            0.5555555555555556,
                            "#1f9e89"
                          ],
                          [
                            0.6666666666666666,
                            "#35b779"
                          ],
                          [
                            0.7777777777777778,
                            "#6ece58"
                          ],
                          [
                            0.8888888888888888,
                            "#b5de2b"
                          ],
                          [
                            1,
                            "#fde725"
                          ]
                        ],
                        "type": "histogram2d"
                      }
                    ],
                    "histogram2dcontour": [
                      {
                        "colorbar": {
                          "outlinewidth": 1,
                          "tickcolor": "rgb(36,36,36)",
                          "ticks": "outside"
                        },
                        "colorscale": [
                          [
                            0,
                            "#440154"
                          ],
                          [
                            0.1111111111111111,
                            "#482878"
                          ],
                          [
                            0.2222222222222222,
                            "#3e4989"
                          ],
                          [
                            0.3333333333333333,
                            "#31688e"
                          ],
                          [
                            0.4444444444444444,
                            "#26828e"
                          ],
                          [
                            0.5555555555555556,
                            "#1f9e89"
                          ],
                          [
                            0.6666666666666666,
                            "#35b779"
                          ],
                          [
                            0.7777777777777778,
                            "#6ece58"
                          ],
                          [
                            0.8888888888888888,
                            "#b5de2b"
                          ],
                          [
                            1,
                            "#fde725"
                          ]
                        ],
                        "type": "histogram2dcontour"
                      }
                    ],
                    "mesh3d": [
                      {
                        "colorbar": {
                          "outlinewidth": 1,
                          "tickcolor": "rgb(36,36,36)",
                          "ticks": "outside"
                        },
                        "type": "mesh3d"
                      }
                    ],
                    "parcoords": [
                      {
                        "line": {
                          "colorbar": {
                            "outlinewidth": 1,
                            "tickcolor": "rgb(36,36,36)",
                            "ticks": "outside"
                          }
                        },
                        "type": "parcoords"
                      }
                    ],
                    "pie": [
                      {
                        "automargin": true,
                        "type": "pie"
                      }
                    ],
                    "scatter": [
                      {
                        "marker": {
                          "colorbar": {
                            "outlinewidth": 1,
                            "tickcolor": "rgb(36,36,36)",
                            "ticks": "outside"
                          }
                        },
                        "type": "scatter"
                      }
                    ],
                    "scatter3d": [
                      {
                        "line": {
                          "colorbar": {
                            "outlinewidth": 1,
                            "tickcolor": "rgb(36,36,36)",
                            "ticks": "outside"
                          }
                        },
                        "marker": {
                          "colorbar": {
                            "outlinewidth": 1,
                            "tickcolor": "rgb(36,36,36)",
                            "ticks": "outside"
                          }
                        },
                        "type": "scatter3d"
                      }
                    ],
                    "scattercarpet": [
                      {
                        "marker": {
                          "colorbar": {
                            "outlinewidth": 1,
                            "tickcolor": "rgb(36,36,36)",
                            "ticks": "outside"
                          }
                        },
                        "type": "scattercarpet"
                      }
                    ],
                    "scattergeo": [
                      {
                        "marker": {
                          "colorbar": {
                            "outlinewidth": 1,
                            "tickcolor": "rgb(36,36,36)",
                            "ticks": "outside"
                          }
                        },
                        "type": "scattergeo"
                      }
                    ],
                    "scattergl": [
                      {
                        "marker": {
                          "colorbar": {
                            "outlinewidth": 1,
                            "tickcolor": "rgb(36,36,36)",
                            "ticks": "outside"
                          }
                        },
                        "type": "scattergl"
                      }
                    ],
                    "scattermapbox": [
                      {
                        "marker": {
                          "colorbar": {
                            "outlinewidth": 1,
                            "tickcolor": "rgb(36,36,36)",
                            "ticks": "outside"
                          }
                        },
                        "type": "scattermapbox"
                      }
                    ],
                    "scatterpolar": [
                      {
                        "marker": {
                          "colorbar": {
                            "outlinewidth": 1,
                            "tickcolor": "rgb(36,36,36)",
                            "ticks": "outside"
                          }
                        },
                        "type": "scatterpolar"
                      }
                    ],
                    "scatterpolargl": [
                      {
                        "marker": {
                          "colorbar": {
                            "outlinewidth": 1,
                            "tickcolor": "rgb(36,36,36)",
                            "ticks": "outside"
                          }
                        },
                        "type": "scatterpolargl"
                      }
                    ],
                    "scatterternary": [
                      {
                        "marker": {
                          "colorbar": {
                            "outlinewidth": 1,
                            "tickcolor": "rgb(36,36,36)",
                            "ticks": "outside"
                          }
                        },
                        "type": "scatterternary"
                      }
                    ],
                    "surface": [
                      {
                        "colorbar": {
                          "outlinewidth": 1,
                          "tickcolor": "rgb(36,36,36)",
                          "ticks": "outside"
                        },
                        "colorscale": [
                          [
                            0,
                            "#440154"
                          ],
                          [
                            0.1111111111111111,
                            "#482878"
                          ],
                          [
                            0.2222222222222222,
                            "#3e4989"
                          ],
                          [
                            0.3333333333333333,
                            "#31688e"
                          ],
                          [
                            0.4444444444444444,
                            "#26828e"
                          ],
                          [
                            0.5555555555555556,
                            "#1f9e89"
                          ],
                          [
                            0.6666666666666666,
                            "#35b779"
                          ],
                          [
                            0.7777777777777778,
                            "#6ece58"
                          ],
                          [
                            0.8888888888888888,
                            "#b5de2b"
                          ],
                          [
                            1,
                            "#fde725"
                          ]
                        ],
                        "type": "surface"
                      }
                    ],
                    "table": [
                      {
                        "cells": {
                          "fill": {
                            "color": "rgb(237,237,237)"
                          },
                          "line": {
                            "color": "white"
                          }
                        },
                        "header": {
                          "fill": {
                            "color": "rgb(217,217,217)"
                          },
                          "line": {
                            "color": "white"
                          }
                        },
                        "type": "table"
                      }
                    ]
                  },
                  "layout": {
                    "font": {
                      "family": "Enriqueta",
                      "size": 12
                    }
                  }
                },
                "title": {
                  "text": "<b>Volume of sales over the year</b>",
                  "x": 0.075
                },
                "xaxis": {
                  "anchor": "y",
                  "domain": [
                    0,
                    1
                  ],
                  "showline": true,
                  "tickmode": "linear",
                  "title": {
                    "text": "Week"
                  }
                },
                "yaxis": {
                  "anchor": "x",
                  "domain": [
                    0,
                    1
                  ],
                  "showline": true,
                  "title": {
                    "text": "Total Sales"
                  }
                }
              }
            },
            "text/html": [
              "<div>                            <div id=\"b4d8be12-dc35-4ae9-a7a2-4c167cee4873\" class=\"plotly-graph-div\" style=\"height:525px; width:100%;\"></div>            <script type=\"text/javascript\">                require([\"plotly\"], function(Plotly) {                    window.PLOTLYENV=window.PLOTLYENV || {};                                    if (document.getElementById(\"b4d8be12-dc35-4ae9-a7a2-4c167cee4873\")) {                    Plotly.newPlot(                        \"b4d8be12-dc35-4ae9-a7a2-4c167cee4873\",                        [{\"hovertemplate\":\"Week=%{x}<br>Total Sales=%{y}<extra></extra>\",\"legendgroup\":\"\",\"line\":{\"color\":\"#1F77B4\",\"dash\":\"solid\"},\"mode\":\"lines\",\"name\":\"\",\"orientation\":\"v\",\"showlegend\":false,\"type\":\"scatter\",\"x\":[1,2,3,4,5,6,7,8,9,10,11,12,13,14,15,16,17,18,19,20,21,22,23,24,25,26,27,28,29,30,31,32,33,34,35,36,37,38,39,40,41,42,43,44,45,46,47,48,49,50,51,52],\"xaxis\":\"x\",\"y\":[87731209.72000007,82696756.51999962,82735644.58999956,79434827.66000026,141989459.70999995,145682278.34000015,147190214.8600003,133865937.53999993,140713109.01000005,138033170.0199998,136762805.5500003,132003954.67999998,139155684.46999973,146755073.1099998,136786256.6299997,138483674.39999974,130951958.37999958,142489399.73999953,137702104.01000014,135990645.2899998,140943422.91000012,147242187.0199995,145147453.1600001,143481718.69999948,140161415.8400002,143093116.11999908,147011815.0300001,137859561.60000035,136222803.9499998,132410792.67000027,143706365.65,140117438.65999958,141332752.5900004,140774012.48999986,139730520.30999914,140727684.6800001,131100725.23999973,128431158.24999996,128170606.07999898,139881301.8999995,133652807.99999954,134008033.52999976,135002768.2899998,94437526.18999968,94599025.57999998,91564564.73999977,132414608.49999988,99299584.36999993,111227918.0900003,121906495.7899998,157929656.9099998,86474980.03999983],\"yaxis\":\"y\"}],                        {\"annotations\":[{\"align\":\"left\",\"font\":{\"size\":12},\"showarrow\":false,\"text\":\"<span style='font-size:16px;'><b><i>Result</b></i>: <i>Sales seems to be stable throughout the year, fall from week 42 followed by resurgence at end.</i>\",\"textangle\":0,\"x\":0,\"xref\":\"paper\",\"y\":-0.2,\"yref\":\"paper\"}],\"legend\":{\"tracegroupgap\":0},\"margin\":{\"t\":60},\"template\":{\"data\":{\"bar\":[{\"error_x\":{\"color\":\"rgb(36,36,36)\"},\"error_y\":{\"color\":\"rgb(36,36,36)\"},\"marker\":{\"line\":{\"color\":\"white\",\"width\":0.5},\"pattern\":{\"fillmode\":\"overlay\",\"size\":10,\"solidity\":0.2}},\"type\":\"bar\"}],\"barpolar\":[{\"marker\":{\"line\":{\"color\":\"white\",\"width\":0.5},\"pattern\":{\"fillmode\":\"overlay\",\"size\":10,\"solidity\":0.2}},\"type\":\"barpolar\"}],\"carpet\":[{\"aaxis\":{\"endlinecolor\":\"rgb(36,36,36)\",\"gridcolor\":\"white\",\"linecolor\":\"white\",\"minorgridcolor\":\"white\",\"startlinecolor\":\"rgb(36,36,36)\"},\"baxis\":{\"endlinecolor\":\"rgb(36,36,36)\",\"gridcolor\":\"white\",\"linecolor\":\"white\",\"minorgridcolor\":\"white\",\"startlinecolor\":\"rgb(36,36,36)\"},\"type\":\"carpet\"}],\"choropleth\":[{\"colorbar\":{\"outlinewidth\":1,\"tickcolor\":\"rgb(36,36,36)\",\"ticks\":\"outside\"},\"type\":\"choropleth\"}],\"contour\":[{\"colorbar\":{\"outlinewidth\":1,\"tickcolor\":\"rgb(36,36,36)\",\"ticks\":\"outside\"},\"colorscale\":[[0.0,\"#440154\"],[0.1111111111111111,\"#482878\"],[0.2222222222222222,\"#3e4989\"],[0.3333333333333333,\"#31688e\"],[0.4444444444444444,\"#26828e\"],[0.5555555555555556,\"#1f9e89\"],[0.6666666666666666,\"#35b779\"],[0.7777777777777778,\"#6ece58\"],[0.8888888888888888,\"#b5de2b\"],[1.0,\"#fde725\"]],\"type\":\"contour\"}],\"contourcarpet\":[{\"colorbar\":{\"outlinewidth\":1,\"tickcolor\":\"rgb(36,36,36)\",\"ticks\":\"outside\"},\"type\":\"contourcarpet\"}],\"heatmap\":[{\"colorbar\":{\"outlinewidth\":1,\"tickcolor\":\"rgb(36,36,36)\",\"ticks\":\"outside\"},\"colorscale\":[[0.0,\"#440154\"],[0.1111111111111111,\"#482878\"],[0.2222222222222222,\"#3e4989\"],[0.3333333333333333,\"#31688e\"],[0.4444444444444444,\"#26828e\"],[0.5555555555555556,\"#1f9e89\"],[0.6666666666666666,\"#35b779\"],[0.7777777777777778,\"#6ece58\"],[0.8888888888888888,\"#b5de2b\"],[1.0,\"#fde725\"]],\"type\":\"heatmap\"}],\"heatmapgl\":[{\"colorbar\":{\"outlinewidth\":1,\"tickcolor\":\"rgb(36,36,36)\",\"ticks\":\"outside\"},\"colorscale\":[[0.0,\"#440154\"],[0.1111111111111111,\"#482878\"],[0.2222222222222222,\"#3e4989\"],[0.3333333333333333,\"#31688e\"],[0.4444444444444444,\"#26828e\"],[0.5555555555555556,\"#1f9e89\"],[0.6666666666666666,\"#35b779\"],[0.7777777777777778,\"#6ece58\"],[0.8888888888888888,\"#b5de2b\"],[1.0,\"#fde725\"]],\"type\":\"heatmapgl\"}],\"histogram\":[{\"marker\":{\"line\":{\"color\":\"white\",\"width\":0.6}},\"type\":\"histogram\"}],\"histogram2d\":[{\"colorbar\":{\"outlinewidth\":1,\"tickcolor\":\"rgb(36,36,36)\",\"ticks\":\"outside\"},\"colorscale\":[[0.0,\"#440154\"],[0.1111111111111111,\"#482878\"],[0.2222222222222222,\"#3e4989\"],[0.3333333333333333,\"#31688e\"],[0.4444444444444444,\"#26828e\"],[0.5555555555555556,\"#1f9e89\"],[0.6666666666666666,\"#35b779\"],[0.7777777777777778,\"#6ece58\"],[0.8888888888888888,\"#b5de2b\"],[1.0,\"#fde725\"]],\"type\":\"histogram2d\"}],\"histogram2dcontour\":[{\"colorbar\":{\"outlinewidth\":1,\"tickcolor\":\"rgb(36,36,36)\",\"ticks\":\"outside\"},\"colorscale\":[[0.0,\"#440154\"],[0.1111111111111111,\"#482878\"],[0.2222222222222222,\"#3e4989\"],[0.3333333333333333,\"#31688e\"],[0.4444444444444444,\"#26828e\"],[0.5555555555555556,\"#1f9e89\"],[0.6666666666666666,\"#35b779\"],[0.7777777777777778,\"#6ece58\"],[0.8888888888888888,\"#b5de2b\"],[1.0,\"#fde725\"]],\"type\":\"histogram2dcontour\"}],\"mesh3d\":[{\"colorbar\":{\"outlinewidth\":1,\"tickcolor\":\"rgb(36,36,36)\",\"ticks\":\"outside\"},\"type\":\"mesh3d\"}],\"parcoords\":[{\"line\":{\"colorbar\":{\"outlinewidth\":1,\"tickcolor\":\"rgb(36,36,36)\",\"ticks\":\"outside\"}},\"type\":\"parcoords\"}],\"pie\":[{\"automargin\":true,\"type\":\"pie\"}],\"scatter\":[{\"marker\":{\"colorbar\":{\"outlinewidth\":1,\"tickcolor\":\"rgb(36,36,36)\",\"ticks\":\"outside\"}},\"type\":\"scatter\"}],\"scatter3d\":[{\"line\":{\"colorbar\":{\"outlinewidth\":1,\"tickcolor\":\"rgb(36,36,36)\",\"ticks\":\"outside\"}},\"marker\":{\"colorbar\":{\"outlinewidth\":1,\"tickcolor\":\"rgb(36,36,36)\",\"ticks\":\"outside\"}},\"type\":\"scatter3d\"}],\"scattercarpet\":[{\"marker\":{\"colorbar\":{\"outlinewidth\":1,\"tickcolor\":\"rgb(36,36,36)\",\"ticks\":\"outside\"}},\"type\":\"scattercarpet\"}],\"scattergeo\":[{\"marker\":{\"colorbar\":{\"outlinewidth\":1,\"tickcolor\":\"rgb(36,36,36)\",\"ticks\":\"outside\"}},\"type\":\"scattergeo\"}],\"scattergl\":[{\"marker\":{\"colorbar\":{\"outlinewidth\":1,\"tickcolor\":\"rgb(36,36,36)\",\"ticks\":\"outside\"}},\"type\":\"scattergl\"}],\"scattermapbox\":[{\"marker\":{\"colorbar\":{\"outlinewidth\":1,\"tickcolor\":\"rgb(36,36,36)\",\"ticks\":\"outside\"}},\"type\":\"scattermapbox\"}],\"scatterpolar\":[{\"marker\":{\"colorbar\":{\"outlinewidth\":1,\"tickcolor\":\"rgb(36,36,36)\",\"ticks\":\"outside\"}},\"type\":\"scatterpolar\"}],\"scatterpolargl\":[{\"marker\":{\"colorbar\":{\"outlinewidth\":1,\"tickcolor\":\"rgb(36,36,36)\",\"ticks\":\"outside\"}},\"type\":\"scatterpolargl\"}],\"scatterternary\":[{\"marker\":{\"colorbar\":{\"outlinewidth\":1,\"tickcolor\":\"rgb(36,36,36)\",\"ticks\":\"outside\"}},\"type\":\"scatterternary\"}],\"surface\":[{\"colorbar\":{\"outlinewidth\":1,\"tickcolor\":\"rgb(36,36,36)\",\"ticks\":\"outside\"},\"colorscale\":[[0.0,\"#440154\"],[0.1111111111111111,\"#482878\"],[0.2222222222222222,\"#3e4989\"],[0.3333333333333333,\"#31688e\"],[0.4444444444444444,\"#26828e\"],[0.5555555555555556,\"#1f9e89\"],[0.6666666666666666,\"#35b779\"],[0.7777777777777778,\"#6ece58\"],[0.8888888888888888,\"#b5de2b\"],[1.0,\"#fde725\"]],\"type\":\"surface\"}],\"table\":[{\"cells\":{\"fill\":{\"color\":\"rgb(237,237,237)\"},\"line\":{\"color\":\"white\"}},\"header\":{\"fill\":{\"color\":\"rgb(217,217,217)\"},\"line\":{\"color\":\"white\"}},\"type\":\"table\"}]},\"layout\":{\"font\":{\"family\":\"Enriqueta\",\"size\":12}}},\"title\":{\"text\":\"<b>Volume of sales over the year</b>\",\"x\":0.075},\"xaxis\":{\"anchor\":\"y\",\"domain\":[0.0,1.0],\"showline\":true,\"tickmode\":\"linear\",\"title\":{\"text\":\"Week\"}},\"yaxis\":{\"anchor\":\"x\",\"domain\":[0.0,1.0],\"showline\":true,\"title\":{\"text\":\"Total Sales\"}}},                        {\"responsive\": true}                    ).then(function(){\n",
              "                            \n",
              "var gd = document.getElementById('b4d8be12-dc35-4ae9-a7a2-4c167cee4873');\n",
              "var x = new MutationObserver(function (mutations, observer) {{\n",
              "        var display = window.getComputedStyle(gd).display;\n",
              "        if (!display || display === 'none') {{\n",
              "            console.log([gd, 'removed!']);\n",
              "            Plotly.purge(gd);\n",
              "            observer.disconnect();\n",
              "        }}\n",
              "}});\n",
              "\n",
              "// Listen for the removal of the full notebook cells\n",
              "var notebookContainer = gd.closest('#notebook-container');\n",
              "if (notebookContainer) {{\n",
              "    x.observe(notebookContainer, {childList: true});\n",
              "}}\n",
              "\n",
              "// Listen for the clearing of the current output cell\n",
              "var outputEl = gd.closest('.output');\n",
              "if (outputEl) {{\n",
              "    x.observe(outputEl, {childList: true});\n",
              "}}\n",
              "\n",
              "                        })                };                });            </script>        </div>"
            ]
          },
          "metadata": {},
          "output_type": "display_data"
        }
      ],
      "source": [
        "df_weeks = train_df.groupby('Week').sum()\n",
        "\n",
        "fig = px.line(data_frame=df_weeks, x=df_weeks.index, y='Weekly_Sales', \n",
        "              template='simple_white', \n",
        "              labels={'Weekly_Sales' : 'Total Sales', 'x' : 'Weeks'})\n",
        "\n",
        "fig.update_layout(\n",
        "    template=template, \n",
        "    title={'text':'<b>Volume of sales over the year</b>', 'x': 0.075},\n",
        "    xaxis=dict(tickmode='linear', showline=True), \n",
        "    yaxis=dict(showline=True))\n",
        "\n",
        "fig.add_annotation(\n",
        "    x=0, y=-0.2, \n",
        "    align='left', \n",
        "    font=dict(size=12),\n",
        "    textangle=0, \n",
        "    xref=\"paper\", \n",
        "    yref=\"paper\", \n",
        "    showarrow=False,\n",
        "    text=\"<span style='font-size:16px;'><b><i>Result</b></i>: <i>Sales seems to be stable throughout the year, fall from week 42 followed by resurgence at end.</i>\", )"
      ]
    }
  ],
  "metadata": {
    "kernelspec": {
      "display_name": "Python 3",
      "language": "python",
      "name": "python3"
    },
    "language_info": {
      "codemirror_mode": {
        "name": "ipython",
        "version": 3
      },
      "file_extension": ".py",
      "mimetype": "text/x-python",
      "name": "python",
      "nbconvert_exporter": "python",
      "pygments_lexer": "ipython3",
      "version": "3.8.19"
    }
  },
  "nbformat": 4,
  "nbformat_minor": 4
}
