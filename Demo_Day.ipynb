{
  "cells": [
    {
      "cell_type": "markdown",
      "metadata": {},
      "source": [
        "<h1 style=\"background-color: rgb(236,138,1); height:40px; width: auto; border-radius: 5px; text-align: center\">Introduction</h1>"
      ]
    },
    {
      "cell_type": "markdown",
      "metadata": {},
      "source": [
        "<p style=\"font-family: 'Menlo','Consolas'; font-size: 13px; text-align: center\">\n",
        "This project will focus on historical sales data from 45 Walmart stores located in different regions.<br>\n",
        "Each store is defined by a specific type, size and contains many departments.<br>\n",
        "My goal is to use available data for be able to predict the sales for each department in each store.<br>\n",
        "Special point is the presence of holiday markdown events included in the dataset.<br>\n",
        "These markdowns are known to affect sales, it will make prediction which how departments are affected harder.\n",
        "</p>"
      ]
    },
    {
      "cell_type": "markdown",
      "metadata": {},
      "source": [
        "<h1 style=\"background-color: rgb(236,138,1); height:40px; width: auto; border-radius: 5px; text-align: center\">Libraries and Tools for the project</h1>"
      ]
    },
    {
      "cell_type": "markdown",
      "metadata": {},
      "source": [
        "<h2>Data Handling</h2>\n",
        "<ul>\n",
        "    <li style=\"font-family: 'Monaco'; font-size: 15px; text-align: center; text-decoration: underline; list-style-type: none;\"><b>Pandas</b></li>\n",
        "    <p style=\"font-family: 'Menlo','Consolas'; font-size: 13px; text-align: center\">\n",
        "    Pandas is a powerful data manipulation and analysis library.<br>\n",
        "    It provides two primary data structures:<br>\n",
        "    DataFrame: A 2D labeled data structure with columns of potentially different types.<br>\n",
        "    Series: A 1D array-like object.\n",
        "    </p>\n",
        "    <li style=\"font-family: 'Monaco'; font-size: 15px; text-align: center; text-decoration: underline; list-style-type: none;\"><b>NumPy</b></li>\n",
        "    <p style=\"font-family: 'Menlo','Consolas'; font-size: 13px; text-align: center\">\n",
        "    NumPy is a library used for numerical computing.<br>\n",
        "    It provides support for large, multi-dimensional arrays and matrices, along with a collection of mathematical functions to operate on.<br>\n",
        "    </p>\n",
        "</ul>"
      ]
    },
    {
      "cell_type": "code",
      "execution_count": 1,
      "metadata": {
        "trusted": true
      },
      "outputs": [],
      "source": [
        "# Data Handling\n",
        "import pandas as pd\n",
        "import numpy as np"
      ]
    },
    {
      "cell_type": "markdown",
      "metadata": {
        "editable": true,
        "slideshow": {
          "slide_type": ""
        },
        "tags": [],
        "trusted": true
      },
      "source": [
        "<h2>Data Visualization</h2>\n",
        "<ul>\n",
        "    <li style=\"font-family: 'Monaco'; font-size: 15px; text-align: center; text-decoration: underline; list-style-type: none;\"><b>Plotly Express</b></li>\n",
        "    <p style=\"font-family: 'Menlo','Consolas'; font-size: 13px; text-align: center\">\n",
        "    Plotly Express is a high-level interface for creating interactive plots easily.<br>\n",
        "    It simplifies the process of creating visualizations like bar charts, scatter plots, line charts... with minimal code.\n",
        "    </p>\n",
        "    <li style=\"font-family: 'Monaco'; font-size: 15px; text-align: center; text-decoration: underline; list-style-type: none;\"><b>Plotly Graph Objects</b></li>\n",
        "    <li style=\"font-family: 'Monaco'; font-size: 15px; text-align: center; text-decoration: underline; list-style-type: none;\"><b>Plotly Figure Factory</b></li>\n",
        "</ul>"
      ]
    },
    {
      "cell_type": "markdown",
      "metadata": {},
      "source": []
    }
  ],
  "metadata": {
    "kernelspec": {
      "display_name": "Python 3",
      "language": "python",
      "name": "python3"
    },
    "language_info": {
      "codemirror_mode": {
        "name": "ipython",
        "version": 3
      },
      "file_extension": ".py",
      "mimetype": "text/x-python",
      "name": "python",
      "nbconvert_exporter": "python",
      "pygments_lexer": "ipython3",
      "version": "3.12.1"
    }
  },
  "nbformat": 4,
  "nbformat_minor": 4
}
